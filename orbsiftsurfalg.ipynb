{
 "cells": [
  {
   "cell_type": "code",
   "execution_count": 1,
   "metadata": {},
   "outputs": [],
   "source": [
    "import cv2\n",
    "import numpy"
   ]
  },
  {
   "cell_type": "code",
   "execution_count": 2,
   "metadata": {},
   "outputs": [],
   "source": [
    "original=cv2.imread(\"003.jpg\", cv2.IMREAD_GRAYSCALE)\n",
    "\n",
    "#sift keypoints and descriptors\n",
    "\n",
    "sift=cv2.xfeatures2d.SIFT_create()\n",
    "keypoints,descriptor=sift.detectAndCompute(original,None)\n",
    "img=cv2.drawKeypoints(original,keypoints,None)\n",
    "\n",
    "#surf keypoints and descriptors\n",
    "\n",
    "surf=cv2.xfeatures2d.SURF_create()\n",
    "keypoints,descriptor=sift.detectAndCompute(original,None)\n",
    "img1=cv2.drawKeypoints(original,keypoints,None)\n",
    "\n",
    "#orb keypoints and descriptors\n",
    "\n",
    "orb=cv2.ORB_create(nfeatures=1500)\n",
    "kp1,ds1=orb.detectAndCompute(original,None)\n",
    "#img2=cv2.drawKeypoints(original,kp1,None)\n",
    "cmp=cv2.imread(\"A1.jpg\",cv2.IMREAD_GRAYSCALE)\n",
    "kp2,ds2=orb.detectAndCompute(cmp,None)\n",
    "#img3=cv2.drawKeypoints(original,kp2,None)"
   ]
  },
  {
   "cell_type": "code",
   "execution_count": null,
   "metadata": {},
   "outputs": [],
   "source": [
    "#brute force matcher\n",
    "bf=cv2.BFMatcher(cv2.NORM_HAMMING,crossCheck=True)\n",
    "matches=bf.match(ds1,ds2)\n",
    "matches=sorted(matches,key=lambda x:x.distance)\n",
    "matching_result=cv2.drawMatches(original,kp1,cmp,kp2,matches[:10],None)\n",
    "for m in matches:\n",
    "    print(m.distance)\n",
    "\n",
    "cv2.imshow(\"original\",matching_result)"
   ]
  },
  {
   "cell_type": "code",
   "execution_count": null,
   "metadata": {},
   "outputs": [],
   "source": [
    "cv2.waitKey(0)\n",
    "cv2.destroyAllWindows"
   ]
  },
  {
   "cell_type": "code",
   "execution_count": null,
   "metadata": {},
   "outputs": [],
   "source": []
  },
  {
   "cell_type": "code",
   "execution_count": null,
   "metadata": {},
   "outputs": [],
   "source": []
  }
 ],
 "metadata": {
  "kernelspec": {
   "display_name": "Python 3",
   "language": "python",
   "name": "python3"
  },
  "language_info": {
   "codemirror_mode": {
    "name": "ipython",
    "version": 3
   },
   "file_extension": ".py",
   "mimetype": "text/x-python",
   "name": "python",
   "nbconvert_exporter": "python",
   "pygments_lexer": "ipython3",
   "version": "3.6.8"
  }
 },
 "nbformat": 4,
 "nbformat_minor": 2
}
